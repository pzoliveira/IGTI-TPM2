{
 "cells": [
  {
   "cell_type": "code",
   "execution_count": 1,
   "id": "53a78e13-0ec5-4d97-9878-209f8ec4e3f9",
   "metadata": {},
   "outputs": [
    {
     "name": "stdout",
     "output_type": "stream",
     "text": [
      "Requirement already satisfied: pyspark in /home/pericles/.local/lib/python3.8/site-packages (3.5.1)\n",
      "Requirement already satisfied: py4j==0.10.9.7 in /home/pericles/.local/lib/python3.8/site-packages (from pyspark) (0.10.9.7)\n"
     ]
    }
   ],
   "source": [
    "! pip install pyspark"
   ]
  },
  {
   "cell_type": "code",
   "execution_count": 2,
   "id": "2a7166a0-4ac7-4a5e-ba29-f1b61738ebd9",
   "metadata": {},
   "outputs": [],
   "source": [
    "from pyspark.sql import SparkSession"
   ]
  },
  {
   "cell_type": "code",
   "execution_count": 3,
   "id": "df196134-dbd1-4544-8941-1b61ceb18b24",
   "metadata": {},
   "outputs": [
    {
     "name": "stderr",
     "output_type": "stream",
     "text": [
      "24/06/15 11:14:14 WARN Utils: Your hostname, pericles-Dell-G15-5510 resolves to a loopback address: 127.0.1.1; using 10.0.0.111 instead (on interface wlp0s20f3)\n",
      "24/06/15 11:14:14 WARN Utils: Set SPARK_LOCAL_IP if you need to bind to another address\n",
      "Setting default log level to \"WARN\".\n",
      "To adjust logging level use sc.setLogLevel(newLevel). For SparkR, use setLogLevel(newLevel).\n",
      "24/06/15 11:14:18 WARN NativeCodeLoader: Unable to load native-hadoop library for your platform... using builtin-java classes where applicable\n"
     ]
    },
    {
     "data": {
      "text/plain": [
       "'3.5.1'"
      ]
     },
     "execution_count": 3,
     "metadata": {},
     "output_type": "execute_result"
    }
   ],
   "source": [
    "spark = SparkSession \\\n",
    "    .builder \\\n",
    "    .appName(\"Trabalho Pratico - Modulo 2\") \\\n",
    "    .getOrCreate()\n",
    "\n",
    "spark.version"
   ]
  },
  {
   "cell_type": "code",
   "execution_count": 5,
   "id": "0fe14bbe-ff68-4f35-853a-c237396f8f8d",
   "metadata": {},
   "outputs": [
    {
     "name": "stdout",
     "output_type": "stream",
     "text": [
      "root\n",
      " |-- date: date (nullable = true)\n",
      " |-- open: double (nullable = true)\n",
      " |-- high: double (nullable = true)\n",
      " |-- low: double (nullable = true)\n",
      " |-- close: double (nullable = true)\n",
      " |-- volume: integer (nullable = true)\n",
      " |-- Name: string (nullable = true)\n",
      "\n"
     ]
    },
    {
     "name": "stderr",
     "output_type": "stream",
     "text": [
      "                                                                                \r"
     ]
    }
   ],
   "source": [
    "stock_df = spark.read.csv('/home/pericles/Spark-Projects/IGTI-TPM2/all_stocks_5yr.csv', header='True', inferSchema='True')\n",
    "\n",
    "stock_df.printSchema()"
   ]
  },
  {
   "cell_type": "code",
   "execution_count": 6,
   "id": "e195764c",
   "metadata": {},
   "outputs": [
    {
     "name": "stdout",
     "output_type": "stream",
     "text": [
      "+----------+-----+-----+-----+-----+--------+----+\n",
      "|      date| open| high|  low|close|  volume|Name|\n",
      "+----------+-----+-----+-----+-----+--------+----+\n",
      "|2013-02-08|15.07|15.12|14.63|14.75| 8407500| AAL|\n",
      "|2013-02-11|14.89|15.01|14.26|14.46| 8882000| AAL|\n",
      "|2013-02-12|14.45|14.51| 14.1|14.27| 8126000| AAL|\n",
      "|2013-02-13| 14.3|14.94|14.25|14.66|10259500| AAL|\n",
      "|2013-02-14|14.94|14.96|13.16|13.99|31879900| AAL|\n",
      "|2013-02-15|13.93|14.61|13.93| 14.5|15628000| AAL|\n",
      "|2013-02-19|14.33|14.56|14.08|14.26|11354400| AAL|\n",
      "|2013-02-20|14.17|14.26|13.15|13.33|14725200| AAL|\n",
      "|2013-02-21|13.62|13.95| 12.9|13.37|11922100| AAL|\n",
      "|2013-02-22|13.57| 13.6|13.21|13.57| 6071400| AAL|\n",
      "|2013-02-25| 13.6|13.76| 13.0|13.02| 7186400| AAL|\n",
      "|2013-02-26|13.14|13.42| 12.7|13.26| 9419000| AAL|\n",
      "|2013-02-27|13.28|13.62|13.18|13.41| 7390500| AAL|\n",
      "|2013-02-28|13.49|13.63|13.39|13.43| 6143600| AAL|\n",
      "|2013-03-01|13.37|13.95|13.32|13.61| 7376800| AAL|\n",
      "|2013-03-04| 13.5|14.07|13.47| 13.9| 8174800| AAL|\n",
      "|2013-03-05|14.01|14.05|13.71|14.05| 7676100| AAL|\n",
      "|2013-03-06|14.52|14.68|14.25|14.57|13243200| AAL|\n",
      "|2013-03-07| 14.7|14.93| 14.5|14.82| 9125300| AAL|\n",
      "|2013-03-08|14.99| 15.2|14.84|14.92|10593700| AAL|\n",
      "+----------+-----+-----+-----+-----+--------+----+\n",
      "only showing top 20 rows\n",
      "\n"
     ]
    }
   ],
   "source": [
    "stock_df.show()"
   ]
  },
  {
   "cell_type": "code",
   "execution_count": 7,
   "id": "69035153",
   "metadata": {},
   "outputs": [
    {
     "name": "stderr",
     "output_type": "stream",
     "text": [
      "24/06/15 11:22:18 WARN SparkStringUtils: Truncated the string representation of a plan since it was too large. This behavior can be adjusted by setting 'spark.sql.debug.maxToStringFields'.\n",
      "[Stage 3:============================================>              (6 + 2) / 8]\r"
     ]
    },
    {
     "name": "stdout",
     "output_type": "stream",
     "text": [
      "+-------+-----------------+-----------------+-----------------+-----------------+-----------------+------+\n",
      "|summary|             open|             high|              low|            close|           volume|  Name|\n",
      "+-------+-----------------+-----------------+-----------------+-----------------+-----------------+------+\n",
      "|  count|           619029|           619032|           619032|           619040|           619040|619040|\n",
      "|   mean|83.02333431454738| 83.7783106934728|82.25609641375341|83.04376276476505|4321823.395568945|  NULL|\n",
      "| stddev|97.37876904332335|98.20751890446381|96.50742105809039|97.38974800165816|8693609.511967558|  NULL|\n",
      "|    min|             1.62|             1.69|              1.5|             1.59|                0|     A|\n",
      "|    max|           2044.0|          2067.99|          2035.11|           2049.0|        618237630|   ZTS|\n",
      "+-------+-----------------+-----------------+-----------------+-----------------+-----------------+------+\n",
      "\n"
     ]
    },
    {
     "name": "stderr",
     "output_type": "stream",
     "text": [
      "                                                                                \r"
     ]
    }
   ],
   "source": [
    "stock_df.describe().show()"
   ]
  },
  {
   "cell_type": "code",
   "execution_count": 8,
   "id": "1906f3c7",
   "metadata": {},
   "outputs": [
    {
     "name": "stdout",
     "output_type": "stream",
     "text": [
      "+-------+-----------------+\n",
      "|summary|             open|\n",
      "+-------+-----------------+\n",
      "|  count|           619029|\n",
      "|   mean|83.02333431454738|\n",
      "| stddev|97.37876904332335|\n",
      "|    min|             1.62|\n",
      "|    max|           2044.0|\n",
      "+-------+-----------------+\n",
      "\n"
     ]
    }
   ],
   "source": [
    "stock_df.describe('open').show()"
   ]
  },
  {
   "cell_type": "code",
   "execution_count": 10,
   "id": "425e957d",
   "metadata": {},
   "outputs": [
    {
     "name": "stderr",
     "output_type": "stream",
     "text": [
      "[Stage 9:======================>                                    (3 + 5) / 8]\r"
     ]
    },
    {
     "name": "stdout",
     "output_type": "stream",
     "text": [
      "+-------+-----------------+\n",
      "|summary|            close|\n",
      "+-------+-----------------+\n",
      "|  count|           619040|\n",
      "|   mean|83.04376276476505|\n",
      "| stddev|97.38974800165816|\n",
      "|    min|             1.59|\n",
      "|    25%|            40.25|\n",
      "|    50%|            62.62|\n",
      "|    75%|            94.39|\n",
      "|    max|           2049.0|\n",
      "+-------+-----------------+\n",
      "\n"
     ]
    },
    {
     "name": "stderr",
     "output_type": "stream",
     "text": [
      "                                                                                \r"
     ]
    }
   ],
   "source": [
    "stock_df.select('close').summary().show()"
   ]
  },
  {
   "cell_type": "code",
   "execution_count": 12,
   "id": "eb70f3e4",
   "metadata": {},
   "outputs": [
    {
     "name": "stdout",
     "output_type": "stream",
     "text": [
      "+----+-----+\n",
      "|name|count|\n",
      "+----+-----+\n",
      "|ALXN| 1259|\n",
      "| AIV| 1259|\n",
      "| AVY| 1259|\n",
      "|BF.B| 1259|\n",
      "| AXP| 1259|\n",
      "| BLK| 1259|\n",
      "|AAPL| 1259|\n",
      "| ALL| 1259|\n",
      "| ADI| 1259|\n",
      "| AGN| 1259|\n",
      "|AMGN| 1259|\n",
      "|ANTM| 1259|\n",
      "| AOS| 1259|\n",
      "|ANDV| 1259|\n",
      "| ACN| 1259|\n",
      "| ARE| 1259|\n",
      "| AIG| 1259|\n",
      "| AFL| 1259|\n",
      "| APH| 1259|\n",
      "| AME| 1259|\n",
      "+----+-----+\n",
      "only showing top 20 rows\n",
      "\n"
     ]
    }
   ],
   "source": [
    "stock_df.groupBy('name').count().show()"
   ]
  },
  {
   "cell_type": "code",
   "execution_count": 18,
   "id": "3d93c98d",
   "metadata": {},
   "outputs": [
    {
     "name": "stderr",
     "output_type": "stream",
     "text": [
      "[Stage 24:=====================>                                    (3 + 5) / 8]\r"
     ]
    },
    {
     "name": "stdout",
     "output_type": "stream",
     "text": [
      "+-------+-----------------+-----------------+-----------------+-----------------+-----------------+------+\n",
      "|summary|             open|             high|              low|            close|           volume|  Name|\n",
      "+-------+-----------------+-----------------+-----------------+-----------------+-----------------+------+\n",
      "|  count|           619029|           619032|           619032|           619040|           619040|619040|\n",
      "|   mean|83.02333431454738| 83.7783106934728|82.25609641375341|83.04376276476505|4321823.395568945|  NULL|\n",
      "| stddev|97.37876904332335|98.20751890446381|96.50742105809039|97.38974800165816|8693609.511967558|  NULL|\n",
      "|    min|             1.62|             1.69|              1.5|             1.59|                0|     A|\n",
      "|    max|           2044.0|          2067.99|          2035.11|           2049.0|        618237630|   ZTS|\n",
      "+-------+-----------------+-----------------+-----------------+-----------------+-----------------+------+\n",
      "\n"
     ]
    },
    {
     "name": "stderr",
     "output_type": "stream",
     "text": [
      "                                                                                \r"
     ]
    }
   ],
   "source": [
    "stock_df.describe().show()"
   ]
  },
  {
   "cell_type": "code",
   "execution_count": 40,
   "id": "3df725ed",
   "metadata": {},
   "outputs": [
    {
     "data": {
      "text/plain": [
       "619040"
      ]
     },
     "execution_count": 40,
     "metadata": {},
     "output_type": "execute_result"
    }
   ],
   "source": [
    "stock_df.count()"
   ]
  },
  {
   "cell_type": "code",
   "execution_count": 45,
   "id": "630e7988",
   "metadata": {},
   "outputs": [
    {
     "name": "stdout",
     "output_type": "stream",
     "text": [
      "+-------+-----------------+-----------------+-----------------+\n",
      "|summary|             open|             high|              low|\n",
      "+-------+-----------------+-----------------+-----------------+\n",
      "|  count|           619029|           619032|           619032|\n",
      "|   mean|83.02333431454738| 83.7783106934728|82.25609641375341|\n",
      "| stddev|97.37876904332335|98.20751890446381|96.50742105809039|\n",
      "|    min|             1.62|             1.69|              1.5|\n",
      "|    max|           2044.0|          2067.99|          2035.11|\n",
      "+-------+-----------------+-----------------+-----------------+\n",
      "\n"
     ]
    }
   ],
   "source": [
    "stock_df.select('open', 'high', 'low').describe().show()"
   ]
  },
  {
   "cell_type": "code",
   "execution_count": 46,
   "id": "bf8327b4",
   "metadata": {},
   "outputs": [
    {
     "name": "stderr",
     "output_type": "stream",
     "text": [
      "[Stage 49:=======>                                                  (1 + 7) / 8]\r"
     ]
    },
    {
     "name": "stdout",
     "output_type": "stream",
     "text": [
      "+-------+-----------------+-----------------+-----------------+\n",
      "|summary|             open|             high|              low|\n",
      "+-------+-----------------+-----------------+-----------------+\n",
      "|  count|           619029|           619032|           619032|\n",
      "|   mean|83.02333431454738| 83.7783106934728|82.25609641375341|\n",
      "| stddev|97.37876904332335|98.20751890446381|96.50742105809039|\n",
      "|    min|             1.62|             1.69|              1.5|\n",
      "|    25%|            40.22|            40.62|            39.83|\n",
      "|    50%|            62.59|            63.15|            62.02|\n",
      "|    75%|            94.36|            95.17|            93.53|\n",
      "|    max|           2044.0|          2067.99|          2035.11|\n",
      "+-------+-----------------+-----------------+-----------------+\n",
      "\n"
     ]
    },
    {
     "name": "stderr",
     "output_type": "stream",
     "text": [
      "                                                                                \r"
     ]
    }
   ],
   "source": [
    "stock_df.select('open', 'high', 'low').summary().show()"
   ]
  },
  {
   "cell_type": "code",
   "execution_count": 67,
   "id": "99edd137",
   "metadata": {},
   "outputs": [
    {
     "data": {
      "text/plain": [
       "1259"
      ]
     },
     "execution_count": 67,
     "metadata": {},
     "output_type": "execute_result"
    }
   ],
   "source": [
    "stock_df[stock_df.Name == 'AAPL'].count()"
   ]
  },
  {
   "cell_type": "code",
   "execution_count": 68,
   "id": "6436abbc",
   "metadata": {},
   "outputs": [
    {
     "data": {
      "text/plain": [
       "505"
      ]
     },
     "execution_count": 68,
     "metadata": {},
     "output_type": "execute_result"
    }
   ],
   "source": [
    "stock_df.select('Name').distinct().count()"
   ]
  },
  {
   "cell_type": "code",
   "execution_count": 71,
   "id": "43c96d07",
   "metadata": {},
   "outputs": [
    {
     "data": {
      "text/plain": [
       "51.52655724993538"
      ]
     },
     "execution_count": 71,
     "metadata": {},
     "output_type": "execute_result"
    }
   ],
   "source": [
    "( stock_df[stock_df.close > stock_df.open].count() / stock_df.count() ) * 100"
   ]
  },
  {
   "cell_type": "code",
   "execution_count": 78,
   "id": "3b54533a",
   "metadata": {},
   "outputs": [
    {
     "name": "stderr",
     "output_type": "stream",
     "text": [
      "[Stage 113:=================================================>       (7 + 1) / 8]\r"
     ]
    },
    {
     "name": "stdout",
     "output_type": "stream",
     "text": [
      "+-------+------------------+------------------+------------------+------------------+-------------------+----+\n",
      "|summary|              open|              high|               low|             close|             volume|Name|\n",
      "+-------+------------------+------------------+------------------+------------------+-------------------+----+\n",
      "|  count|              1259|              1259|              1259|              1259|               1259|1259|\n",
      "|   mean|109.05542891183475|109.95111834789516|108.14158888006372|109.06669849086583|5.404789973550437E7|NULL|\n",
      "| stddev| 30.54922002458826|30.686186407983914|30.376223585852472|30.556811676964696|  3.3468353335784E7|NULL|\n",
      "|    min|           55.4242|           57.0857|           55.0142|           55.7899|           11475922|AAPL|\n",
      "|    max|            179.37|             180.1|            178.25|            179.26|          266833581|AAPL|\n",
      "+-------+------------------+------------------+------------------+------------------+-------------------+----+\n",
      "\n"
     ]
    },
    {
     "name": "stderr",
     "output_type": "stream",
     "text": [
      "                                                                                \r"
     ]
    }
   ],
   "source": [
    "stock_df[stock_df.Name == 'AAPL'].describe().show()"
   ]
  },
  {
   "cell_type": "code",
   "execution_count": 108,
   "id": "b5b88e31",
   "metadata": {},
   "outputs": [
    {
     "name": "stdout",
     "output_type": "stream",
     "text": [
      "+-----+------------------+\n",
      "| Name|     stddev(close)|\n",
      "+-----+------------------+\n",
      "| PCLN|  320.533473018748|\n",
      "| AMZN|  282.500395033522|\n",
      "|GOOGL|187.57389185479704|\n",
      "| GOOG|166.42052902768182|\n",
      "|  MTD|131.39721989584996|\n",
      "|  AZO|130.74959678201296|\n",
      "|  CMG|130.28062354899413|\n",
      "| EQIX| 95.21280494966273|\n",
      "| REGN| 94.06934511650653|\n",
      "| CHTR| 83.63699908227738|\n",
      "| ISRG| 72.97599882123069|\n",
      "| AVGO| 71.41622240006728|\n",
      "| ULTA| 67.15184610039526|\n",
      "|  NOC| 66.39592749504422|\n",
      "|  SHW| 64.52058470708296|\n",
      "|  LMT| 62.41202936228181|\n",
      "|  BLK| 62.33688426948667|\n",
      "| NVDA| 59.62464184686514|\n",
      "| ORLY| 59.09508035311545|\n",
      "|  AGN|59.026349830314544|\n",
      "+-----+------------------+\n",
      "only showing top 20 rows\n",
      "\n"
     ]
    }
   ],
   "source": [
    "from pyspark.sql.functions import asc, col\n",
    "\n",
    "stock_df.groupBy('Name').agg({'close': 'stddev'}).orderBy(col('stddev(close)').desc()).show()"
   ]
  },
  {
   "cell_type": "code",
   "execution_count": 115,
   "id": "c0b3c602",
   "metadata": {},
   "outputs": [
    {
     "name": "stderr",
     "output_type": "stream",
     "text": [
      "[Stage 163:============================>                            (4 + 4) / 8]\r"
     ]
    },
    {
     "name": "stdout",
     "output_type": "stream",
     "text": [
      "+----------+-----------+\n",
      "|      date|sum(volume)|\n",
      "+----------+-----------+\n",
      "|2015-08-24| 4607945196|\n",
      "|2016-06-24| 4367393052|\n",
      "|2015-12-18| 4124454411|\n",
      "|2016-01-20| 4087629753|\n",
      "|2018-02-06| 4072080890|\n",
      "|2016-11-10| 4060601612|\n",
      "|2014-10-15| 3993171524|\n",
      "|2013-06-21| 3983923288|\n",
      "|2015-09-18| 3962050449|\n",
      "|2016-11-09| 3915089371|\n",
      "|2016-01-15| 3787884056|\n",
      "|2017-12-15| 3786992731|\n",
      "|2016-02-08| 3759709109|\n",
      "|2016-03-18| 3755746256|\n",
      "|2016-01-29| 3740170664|\n",
      "|2014-03-21| 3611991561|\n",
      "|2018-02-05| 3598437288|\n",
      "|2013-03-15| 3569550899|\n",
      "|2016-12-16| 3564871264|\n",
      "|2016-02-11| 3547898496|\n",
      "+----------+-----------+\n",
      "only showing top 20 rows\n",
      "\n"
     ]
    },
    {
     "name": "stderr",
     "output_type": "stream",
     "text": [
      "                                                                                \r"
     ]
    }
   ],
   "source": [
    "stock_df.groupBy('date').agg({'volume': 'sum'}).orderBy(col('sum(volume)').desc()).show()"
   ]
  },
  {
   "cell_type": "code",
   "execution_count": 116,
   "id": "a44c6efc",
   "metadata": {},
   "outputs": [
    {
     "name": "stdout",
     "output_type": "stream",
     "text": [
      "+-----+------------+\n",
      "| Name| sum(volume)|\n",
      "+-----+------------+\n",
      "|  BAC|117884953591|\n",
      "| AAPL| 68046305767|\n",
      "|   GE| 53023644686|\n",
      "|    F| 43388129992|\n",
      "|   FB| 43258314899|\n",
      "| MSFT| 42641653597|\n",
      "|  AMD| 40941468586|\n",
      "|   MU| 38082749687|\n",
      "| INTC| 36922332801|\n",
      "| CSCO| 36075826186|\n",
      "|  PFE| 35527608853|\n",
      "|    T| 31850598073|\n",
      "|  CHK| 31421758366|\n",
      "|CMCSA| 30630585625|\n",
      "|  FCX| 29648463667|\n",
      "|    C| 26044628798|\n",
      "|  WFC| 23305954532|\n",
      "|  JPM| 20885592857|\n",
      "|   RF| 20645650500|\n",
      "| NFLX| 20405882026|\n",
      "+-----+------------+\n",
      "only showing top 20 rows\n",
      "\n"
     ]
    }
   ],
   "source": [
    "stock_df.groupBy('Name').agg({'volume': 'sum'}).orderBy(col('sum(volume)').desc()).show()"
   ]
  },
  {
   "cell_type": "code",
   "execution_count": 127,
   "id": "6176e182",
   "metadata": {},
   "outputs": [
    {
     "data": {
      "text/plain": [
       "59"
      ]
     },
     "execution_count": 127,
     "metadata": {},
     "output_type": "execute_result"
    }
   ],
   "source": [
    "(stock_df[stock_df.Name < 'B']).select('Name').distinct().count()"
   ]
  },
  {
   "cell_type": "code",
   "execution_count": 125,
   "id": "ef0a6fdf",
   "metadata": {},
   "outputs": [
    {
     "data": {
      "text/plain": [
       "505"
      ]
     },
     "execution_count": 125,
     "metadata": {},
     "output_type": "execute_result"
    }
   ],
   "source": [
    "stock_df.select('Name').distinct().count()"
   ]
  },
  {
   "cell_type": "code",
   "execution_count": 129,
   "id": "86a30126",
   "metadata": {},
   "outputs": [
    {
     "data": {
      "text/plain": [
       "0.011986301369863013"
      ]
     },
     "execution_count": 129,
     "metadata": {},
     "output_type": "execute_result"
    }
   ],
   "source": [
    "stock_df[stock_df.high == stock_df.close].count() / stock_df.count()"
   ]
  },
  {
   "cell_type": "code",
   "execution_count": 137,
   "id": "72675955",
   "metadata": {},
   "outputs": [
    {
     "name": "stdout",
     "output_type": "stream",
     "text": [
      "+----------+------------------+\n",
      "|      date|    max(high-open)|\n",
      "+----------+------------------+\n",
      "|2015-08-24|13.929999999999993|\n",
      "+----------+------------------+\n",
      "only showing top 1 row\n",
      "\n"
     ]
    }
   ],
   "source": [
    "new_stock_df = stock_df\n",
    "\n",
    "# new_stock_df['high-open'] = new_stock_df['high'] - new_stock_df['low']\n",
    "\n",
    "new_stock_df = new_stock_df.withColumn('high-open', col('high') - col('open'))\n",
    "\n",
    "new_stock_df[new_stock_df.Name == 'AAPL'].groupBy('date').agg({'high-open': 'max'}).orderBy(col('max(high-open)').desc()).show(1)"
   ]
  },
  {
   "cell_type": "code",
   "execution_count": null,
   "id": "7551a771",
   "metadata": {},
   "outputs": [],
   "source": []
  }
 ],
 "metadata": {
  "kernelspec": {
   "display_name": "Python 3 (ipykernel)",
   "language": "python",
   "name": "python3"
  },
  "language_info": {
   "codemirror_mode": {
    "name": "ipython",
    "version": 3
   },
   "file_extension": ".py",
   "mimetype": "text/x-python",
   "name": "python",
   "nbconvert_exporter": "python",
   "pygments_lexer": "ipython3",
   "version": "3.8.10"
  }
 },
 "nbformat": 4,
 "nbformat_minor": 5
}
